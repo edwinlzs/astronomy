{
  "nbformat": 4,
  "nbformat_minor": 0,
  "metadata": {
    "colab": {
      "name": "Astronomy.ipynb",
      "provenance": [],
      "collapsed_sections": []
    },
    "kernelspec": {
      "name": "python3",
      "display_name": "Python 3"
    },
    "language_info": {
      "name": "python"
    },
    "accelerator": "TPU"
  },
  "cells": [
    {
      "cell_type": "code",
      "metadata": {
        "colab": {
          "base_uri": "https://localhost:8080/"
        },
        "id": "Y0QqtLzp_1-y",
        "outputId": "ab9826a1-c879-4796-b458-d162758a5b54"
      },
      "source": [
        "!pip install astroNN"
      ],
      "execution_count": null,
      "outputs": [
        {
          "output_type": "stream",
          "name": "stdout",
          "text": [
            "Collecting astroNN\n",
            "  Downloading astroNN-1.0.1.tar.gz (9.3 MB)\n",
            "\u001b[K     |████████████████████████████████| 9.3 MB 4.5 MB/s \n",
            "\u001b[?25hRequirement already satisfied: numpy in /usr/local/lib/python3.7/dist-packages (from astroNN) (1.19.5)\n",
            "Requirement already satisfied: astropy in /usr/local/lib/python3.7/dist-packages (from astroNN) (4.3.1)\n",
            "Requirement already satisfied: h5py in /usr/local/lib/python3.7/dist-packages (from astroNN) (3.1.0)\n",
            "Requirement already satisfied: matplotlib in /usr/local/lib/python3.7/dist-packages (from astroNN) (3.2.2)\n",
            "Collecting astroquery\n",
            "  Downloading astroquery-0.4.4-py3-none-any.whl (4.5 MB)\n",
            "\u001b[K     |████████████████████████████████| 4.5 MB 40.7 MB/s \n",
            "\u001b[?25hRequirement already satisfied: pandas in /usr/local/lib/python3.7/dist-packages (from astroNN) (1.1.5)\n",
            "Requirement already satisfied: seaborn in /usr/local/lib/python3.7/dist-packages (from astroNN) (0.11.2)\n",
            "Requirement already satisfied: scikit-learn in /usr/local/lib/python3.7/dist-packages (from astroNN) (1.0.1)\n",
            "Requirement already satisfied: tqdm in /usr/local/lib/python3.7/dist-packages (from astroNN) (4.62.3)\n",
            "Requirement already satisfied: packaging in /usr/local/lib/python3.7/dist-packages (from astroNN) (21.3)\n",
            "Requirement already satisfied: pyerfa>=1.7.3 in /usr/local/lib/python3.7/dist-packages (from astropy->astroNN) (2.0.0.1)\n",
            "Requirement already satisfied: importlib-metadata in /usr/local/lib/python3.7/dist-packages (from astropy->astroNN) (4.8.2)\n",
            "Collecting keyring>=4.0\n",
            "  Downloading keyring-23.4.0-py3-none-any.whl (33 kB)\n",
            "Requirement already satisfied: beautifulsoup4>=4.3.2 in /usr/local/lib/python3.7/dist-packages (from astroquery->astroNN) (4.6.3)\n",
            "Collecting pyvo>=1.1\n",
            "  Downloading pyvo-1.1-py3-none-any.whl (802 kB)\n",
            "\u001b[K     |████████████████████████████████| 802 kB 42.9 MB/s \n",
            "\u001b[?25hRequirement already satisfied: requests>=2.4.3 in /usr/local/lib/python3.7/dist-packages (from astroquery->astroNN) (2.23.0)\n",
            "Requirement already satisfied: html5lib>=0.999 in /usr/local/lib/python3.7/dist-packages (from astroquery->astroNN) (1.0.1)\n",
            "Requirement already satisfied: webencodings in /usr/local/lib/python3.7/dist-packages (from html5lib>=0.999->astroquery->astroNN) (0.5.1)\n",
            "Requirement already satisfied: six>=1.9 in /usr/local/lib/python3.7/dist-packages (from html5lib>=0.999->astroquery->astroNN) (1.15.0)\n",
            "Collecting SecretStorage>=3.2\n",
            "  Downloading SecretStorage-3.3.1-py3-none-any.whl (15 kB)\n",
            "Collecting jeepney>=0.4.2\n",
            "  Downloading jeepney-0.7.1-py3-none-any.whl (54 kB)\n",
            "\u001b[K     |████████████████████████████████| 54 kB 2.2 MB/s \n",
            "\u001b[?25hRequirement already satisfied: zipp>=0.5 in /usr/local/lib/python3.7/dist-packages (from importlib-metadata->astropy->astroNN) (3.6.0)\n",
            "Requirement already satisfied: typing-extensions>=3.6.4 in /usr/local/lib/python3.7/dist-packages (from importlib-metadata->astropy->astroNN) (3.10.0.2)\n",
            "Collecting mimeparse\n",
            "  Downloading mimeparse-0.1.3.tar.gz (4.4 kB)\n",
            "Requirement already satisfied: chardet<4,>=3.0.2 in /usr/local/lib/python3.7/dist-packages (from requests>=2.4.3->astroquery->astroNN) (3.0.4)\n",
            "Requirement already satisfied: urllib3!=1.25.0,!=1.25.1,<1.26,>=1.21.1 in /usr/local/lib/python3.7/dist-packages (from requests>=2.4.3->astroquery->astroNN) (1.24.3)\n",
            "Requirement already satisfied: certifi>=2017.4.17 in /usr/local/lib/python3.7/dist-packages (from requests>=2.4.3->astroquery->astroNN) (2021.10.8)\n",
            "Requirement already satisfied: idna<3,>=2.5 in /usr/local/lib/python3.7/dist-packages (from requests>=2.4.3->astroquery->astroNN) (2.10)\n",
            "Collecting cryptography>=2.0\n",
            "  Downloading cryptography-36.0.0-cp36-abi3-manylinux_2_24_x86_64.whl (3.6 MB)\n",
            "\u001b[K     |████████████████████████████████| 3.6 MB 29.1 MB/s \n",
            "\u001b[?25hRequirement already satisfied: cffi>=1.12 in /usr/local/lib/python3.7/dist-packages (from cryptography>=2.0->SecretStorage>=3.2->keyring>=4.0->astroquery->astroNN) (1.15.0)\n",
            "Requirement already satisfied: pycparser in /usr/local/lib/python3.7/dist-packages (from cffi>=1.12->cryptography>=2.0->SecretStorage>=3.2->keyring>=4.0->astroquery->astroNN) (2.21)\n",
            "Requirement already satisfied: cached-property in /usr/local/lib/python3.7/dist-packages (from h5py->astroNN) (1.5.2)\n",
            "Requirement already satisfied: python-dateutil>=2.1 in /usr/local/lib/python3.7/dist-packages (from matplotlib->astroNN) (2.8.2)\n",
            "Requirement already satisfied: pyparsing!=2.0.4,!=2.1.2,!=2.1.6,>=2.0.1 in /usr/local/lib/python3.7/dist-packages (from matplotlib->astroNN) (3.0.6)\n",
            "Requirement already satisfied: cycler>=0.10 in /usr/local/lib/python3.7/dist-packages (from matplotlib->astroNN) (0.11.0)\n",
            "Requirement already satisfied: kiwisolver>=1.0.1 in /usr/local/lib/python3.7/dist-packages (from matplotlib->astroNN) (1.3.2)\n",
            "Requirement already satisfied: pytz>=2017.2 in /usr/local/lib/python3.7/dist-packages (from pandas->astroNN) (2018.9)\n",
            "Requirement already satisfied: scipy>=1.1.0 in /usr/local/lib/python3.7/dist-packages (from scikit-learn->astroNN) (1.4.1)\n",
            "Requirement already satisfied: threadpoolctl>=2.0.0 in /usr/local/lib/python3.7/dist-packages (from scikit-learn->astroNN) (3.0.0)\n",
            "Requirement already satisfied: joblib>=0.11 in /usr/local/lib/python3.7/dist-packages (from scikit-learn->astroNN) (1.1.0)\n",
            "Building wheels for collected packages: astroNN, mimeparse\n",
            "  Building wheel for astroNN (setup.py) ... \u001b[?25l\u001b[?25hdone\n",
            "  Created wheel for astroNN: filename=astroNN-1.0.1-py3-none-any.whl size=9284594 sha256=40bb676451dea09f4becd1a839e4dabfc64990af968b338c7442af376a4f51cc\n",
            "  Stored in directory: /root/.cache/pip/wheels/26/a4/7e/4cbf2a7f9cd51929da9d09345e8cd37c647b54825a1314dd2d\n",
            "  Building wheel for mimeparse (setup.py) ... \u001b[?25l\u001b[?25hdone\n",
            "  Created wheel for mimeparse: filename=mimeparse-0.1.3-py3-none-any.whl size=3864 sha256=2c3b30baec9f4fcfd3ef3bf032e1535f5579ba3dffa80bab296680832d6bc370\n",
            "  Stored in directory: /root/.cache/pip/wheels/49/b4/2d/0081759ae1833bd694024801f7aacddcda8a687e8d5fbaeebd\n",
            "Successfully built astroNN mimeparse\n",
            "Installing collected packages: jeepney, cryptography, SecretStorage, mimeparse, pyvo, keyring, astroquery, astroNN\n",
            "Successfully installed SecretStorage-3.3.1 astroNN-1.0.1 astroquery-0.4.4 cryptography-36.0.0 jeepney-0.7.1 keyring-23.4.0 mimeparse-0.1.3 pyvo-1.1\n"
          ]
        }
      ]
    },
    {
      "cell_type": "markdown",
      "metadata": {
        "id": "0NozLQ3LALBW"
      },
      "source": [
        "## LOAD DATA"
      ]
    },
    {
      "cell_type": "code",
      "metadata": {
        "colab": {
          "base_uri": "https://localhost:8080/"
        },
        "id": "LzHfTak_-xFm",
        "outputId": "eb5873fc-5fad-47de-9349-173e8f4d3fc9"
      },
      "source": [
        "import h5py\n",
        "import numpy as np\n",
        "import matplotlib.pyplot as plt\n",
        "from sklearn.model_selection import train_test_split\n",
        "from tensorflow.keras import utils\n",
        "from keras.models import Sequential, load_model\n",
        "from keras.layers import Dense, Conv2D, MaxPooling2D, Flatten, Dropout\n",
        "from astroNN.datasets.galaxy10 import galaxy10cls_lookup"
      ],
      "execution_count": null,
      "outputs": [
        {
          "output_type": "stream",
          "name": "stdout",
          "text": [
            "WARNING! APOGEE environment variable SDSS_LOCAL_SAS_MIRROR not set\n",
            "WARNING! Gaia environment variable GAIA_TOOLS_DATA not set\n"
          ]
        }
      ]
    },
    {
      "cell_type": "code",
      "metadata": {
        "id": "MC9eukRUG4_U"
      },
      "source": [
        "from google.colab import drive\n",
        "drive.mount('/content/gdrive')"
      ],
      "execution_count": null,
      "outputs": []
    },
    {
      "cell_type": "code",
      "metadata": {
        "id": "XlUsI3Jt_Md2"
      },
      "source": [
        "with h5py.File('./gdrive/MyDrive/Datasets/Galaxy10_DECals.h5', 'r') as F:\n",
        "    images = np.array(F['images'])\n",
        "    labels = np.array(F['ans'])\n",
        "\n",
        "# convert labels to categorical 10 classes\n",
        "labels = utils.to_categorical(labels, 10)\n",
        "\n",
        "# convert to desirable type\n",
        "# labels = labels.astype(np.float32)\n",
        "# images = images.astype(np.float32)\n",
        "\n",
        "# split into train and test set\n",
        "train_idx, test_idx = train_test_split(np.arange(labels.shape[0]), test_size=0.1)\n",
        "train_images, train_labels, test_images, test_labels = images[train_idx], labels[train_idx], images[test_idx], labels[test_idx]"
      ],
      "execution_count": null,
      "outputs": []
    },
    {
      "cell_type": "code",
      "metadata": {
        "id": "BF4C8ZRv_-ZA"
      },
      "source": [
        "print(train_images[0].shape)"
      ],
      "execution_count": null,
      "outputs": []
    },
    {
      "cell_type": "code",
      "metadata": {
        "id": "FRQGj_Jv__rf"
      },
      "source": [
        "\n",
        "plt.imshow(train_images[0])\n",
        "plt.show()"
      ],
      "execution_count": null,
      "outputs": []
    },
    {
      "cell_type": "markdown",
      "metadata": {
        "id": "i_H4IM00ADjA"
      },
      "source": [
        "## BUILD MODEL"
      ]
    },
    {
      "cell_type": "code",
      "metadata": {
        "id": "3wiNlwdFABA7"
      },
      "source": [
        "model = Sequential()\n",
        "\n",
        "# add layers\n",
        "model.add(Conv2D(filters=16, kernel_size=3, strides=(1, 1), activation='relu', input_shape=(256, 256, 3)))\n",
        "model.add(Conv2D(filters=16, kernel_size=3, strides=(1, 1), activation='relu'))\n",
        "model.add(Conv2D(filters=16, kernel_size=3, strides=(1, 1), activation='relu'))\n",
        "model.add(MaxPooling2D(pool_size=(2, 2), strides=(2, 2)))\n",
        "model.add(Conv2D(filters=16, kernel_size=3, strides=(1, 1), activation='relu'))\n",
        "model.add(Conv2D(filters=16, kernel_size=3, strides=(1, 1), activation='relu'))\n",
        "model.add(Conv2D(filters=16, kernel_size=3, strides=(1, 1), activation='relu'))\n",
        "model.add(MaxPooling2D(pool_size=(3, 3), strides=(2, 2)))\n",
        "model.add(Conv2D(filters=32, kernel_size=3, strides=(1, 1), activation='relu'))\n",
        "model.add(Conv2D(filters=32, kernel_size=3, strides=(1, 1), activation='relu'))\n",
        "model.add(Conv2D(filters=32, kernel_size=3, strides=(1, 1), activation='relu'))\n",
        "model.add(MaxPooling2D(pool_size=(3, 3), strides=(2, 2)))\n",
        "model.add(Conv2D(filters=32, kernel_size=3, strides=(1, 1), activation='relu'))\n",
        "model.add(Conv2D(filters=32, kernel_size=3, strides=(1, 1), activation='relu'))\n",
        "model.add(Conv2D(filters=32, kernel_size=3, strides=(1, 1), activation='relu'))\n",
        "model.add(MaxPooling2D(pool_size=(2, 2), strides=(2, 2)))\n",
        "model.add(Flatten())\n",
        "model.add(Dense(4800, activation='relu'))\n",
        "model.add(Dropout(0.2))\n",
        "model.add(Dense(800, activation='relu'))\n",
        "model.add(Dropout(0.2))\n",
        "model.add(Dense(10, activation='softmax'))\n",
        "\n",
        "# compile model\n",
        "model.compile(optimizer='adam', loss='categorical_crossentropy', metrics=['accuracy'])"
      ],
      "execution_count": null,
      "outputs": []
    },
    {
      "cell_type": "code",
      "metadata": {
        "colab": {
          "base_uri": "https://localhost:8080/"
        },
        "id": "AufnO9oNABhj",
        "outputId": "2e73c02e-3818-4975-e3f3-2d5fd081268a"
      },
      "source": [
        "# train model\n",
        "history_1 = model.fit(train_images, train_labels, batch_size=32, validation_data=(test_images, test_labels), epochs=6)\n",
        "model.save('./gdrive/MyDrive/Models/Astronomy')"
      ],
      "execution_count": null,
      "outputs": [
        {
          "output_type": "stream",
          "name": "stdout",
          "text": [
            "Epoch 1/6\n",
            "499/499 [==============================] - 131s 237ms/step - loss: 2.0765 - accuracy: 0.2171 - val_loss: 1.5788 - val_accuracy: 0.3929\n",
            "Epoch 2/6\n",
            "499/499 [==============================] - 116s 232ms/step - loss: 1.4536 - accuracy: 0.4655 - val_loss: 1.2722 - val_accuracy: 0.5406\n",
            "Epoch 3/6\n",
            "499/499 [==============================] - 114s 228ms/step - loss: 1.1771 - accuracy: 0.5813 - val_loss: 1.1553 - val_accuracy: 0.5958\n",
            "Epoch 4/6\n",
            "499/499 [==============================] - 113s 227ms/step - loss: 0.9917 - accuracy: 0.6480 - val_loss: 1.0365 - val_accuracy: 0.6612\n",
            "Epoch 5/6\n",
            "499/499 [==============================] - 120s 241ms/step - loss: 0.8668 - accuracy: 0.6945 - val_loss: 0.9889 - val_accuracy: 0.6657\n",
            "Epoch 6/6\n",
            "499/499 [==============================] - 116s 232ms/step - loss: 0.7531 - accuracy: 0.7356 - val_loss: 0.9881 - val_accuracy: 0.6725\n",
            "INFO:tensorflow:Assets written to: ./gdrive/MyDrive/Models/Astronomy/assets\n"
          ]
        }
      ]
    },
    {
      "cell_type": "code",
      "metadata": {
        "colab": {
          "base_uri": "https://localhost:8080/",
          "height": 282
        },
        "id": "vb76OdErHchD",
        "outputId": "b42b39ae-c43d-4d2b-9573-019a1352bde2"
      },
      "source": [
        "plt.plot(history_1.history['accuracy'])"
      ],
      "execution_count": null,
      "outputs": [
        {
          "output_type": "execute_result",
          "data": {
            "text/plain": [
              "[<matplotlib.lines.Line2D at 0x7f79eb0b6ed0>]"
            ]
          },
          "metadata": {},
          "execution_count": 9
        },
        {
          "output_type": "display_data",
          "data": {
            "image/png": "[encoded data removed]",
            "text/plain": [
              "<Figure size 432x288 with 1 Axes>"
            ]
          },
          "metadata": {
            "needs_background": "light"
          }
        }
      ]
    },
    {
      "cell_type": "code",
      "metadata": {
        "colab": {
          "base_uri": "https://localhost:8080/"
        },
        "id": "RIbH59z6ANlj",
        "outputId": "4b46b979-90bd-48e0-b483-9fe251d6e17b"
      },
      "source": [
        "model = load_model('./gdrive/MyDrive/Models/Astronomy')\n",
        "history_2 = model.fit(train_images, train_labels, batch_size=32, validation_data=(test_images, test_labels), epochs=6)"
      ],
      "execution_count": null,
      "outputs": [
        {
          "output_type": "stream",
          "name": "stdout",
          "text": [
            "Epoch 1/6\n",
            "499/499 [==============================] - 2789s 6s/step - loss: 0.6723 - accuracy: 0.7716 - val_loss: 0.7136 - val_accuracy: 0.7463\n",
            "Epoch 2/6\n",
            "499/499 [==============================] - 2794s 6s/step - loss: 0.5544 - accuracy: 0.8098 - val_loss: 0.6905 - val_accuracy: 0.7570\n",
            "Epoch 3/6\n",
            "499/499 [==============================] - 2801s 6s/step - loss: 0.4550 - accuracy: 0.8407 - val_loss: 0.8343 - val_accuracy: 0.7294\n",
            "Epoch 4/6\n",
            "499/499 [==============================] - 2811s 6s/step - loss: 0.3730 - accuracy: 0.8720 - val_loss: 0.7538 - val_accuracy: 0.7683\n",
            "Epoch 5/6\n",
            "499/499 [==============================] - 2822s 6s/step - loss: 0.2955 - accuracy: 0.9005 - val_loss: 0.9688 - val_accuracy: 0.7339\n",
            "Epoch 6/6\n",
            "499/499 [==============================] - 2836s 6s/step - loss: 0.2520 - accuracy: 0.9161 - val_loss: 0.9416 - val_accuracy: 0.7503\n"
          ]
        }
      ]
    },
    {
      "cell_type": "code",
      "metadata": {
        "colab": {
          "base_uri": "https://localhost:8080/",
          "height": 282
        },
        "id": "DHDsXnz0TL44",
        "outputId": "69fed054-44f2-4e36-e031-bc99d8f8f3c3"
      },
      "source": [
        "plt.plot(history_2.history['accuracy'])"
      ],
      "execution_count": null,
      "outputs": [
        {
          "output_type": "execute_result",
          "data": {
            "text/plain": [
              "[<matplotlib.lines.Line2D at 0x7f89d4ee5490>]"
            ]
          },
          "metadata": {},
          "execution_count": 12
        },
        {
          "output_type": "display_data",
          "data": {
            "image/png": "[encoded data removed]",
            "text/plain": [
              "<Figure size 432x288 with 1 Axes>"
            ]
          },
          "metadata": {
            "needs_background": "light"
          }
        }
      ]
    },
    {
      "cell_type": "code",
      "metadata": {
        "colab": {
          "base_uri": "https://localhost:8080/"
        },
        "id": "VECANAxEfXq4",
        "outputId": "07d77423-21c6-4f81-a17e-6d982f15ab8f"
      },
      "source": [
        "model.save('./gdrive/MyDrive/Models/Astronomy')"
      ],
      "execution_count": null,
      "outputs": [
        {
          "output_type": "stream",
          "name": "stdout",
          "text": [
            "INFO:tensorflow:Assets written to: ./gdrive/MyDrive/Models/Astronomy/assets\n"
          ]
        }
      ]
    },
    {
      "cell_type": "code",
      "metadata": {
        "id": "C5fK7Xg9ng4l"
      },
      "source": [
        ""
      ],
      "execution_count": null,
      "outputs": []
    }
  ]
}